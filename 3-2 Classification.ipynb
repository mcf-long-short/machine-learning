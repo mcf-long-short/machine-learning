{
  "nbformat": 4,
  "nbformat_minor": 0,
  "metadata": {
    "colab": {
      "name": "Homework_3_2.ipynb",
      "provenance": [],
      "collapsed_sections": [],
      "toc_visible": true
    },
    "kernelspec": {
      "name": "python3",
      "display_name": "Python 3"
    },
    "language_info": {
      "name": "python"
    }
  },
  "cells": [
    {
      "cell_type": "markdown",
      "metadata": {
        "id": "mwNEDkhFtxwC"
      },
      "source": [
        "# <font style=\"font-size:40px\"><center><b>Machine Learning</b></center></font><font                        style=\"font-size:30px\"><center><b>Master in Computational Finance (MCF) </b></center></font> \n",
        "\n",
        "<center> \n",
        "\n",
        "# ![Screen Shot 2021-07-11 at 13.37.02 PM.png](data:image/png;base64,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)\n",
        "\n",
        "<center/>"
      ]
    },
    {
      "cell_type": "markdown",
      "metadata": {
        "id": "aihhzeTmt6TX"
      },
      "source": [
        "# <font color='tomato' style=\"font-size:40px\"><center><b>Homework 3</b></center></font></b></center></font> \n",
        "\n",
        "<center>\n",
        "<b>profesor: </b> Nikola Vasiljevic\n",
        "\n",
        "<b>students: </b> \n",
        "Nikola Krivacevic, Aleksandar Milinkovic\n",
        "</center>\n",
        "\n",
        "\n",
        "\n"
      ]
    },
    {
      "cell_type": "markdown",
      "source": [
        "# 2 Horse Races of Classification Methods "
      ],
      "metadata": {
        "id": "gK1awqn_sa6p"
      }
    },
    {
      "cell_type": "markdown",
      "source": [
        "Based on your results and conclusions drawn from the logistic regression analysis, generate\n",
        "the key performance evaluation metrics of your choice for logistic regression, linear SVC,\n",
        "KNN, decision tree, and random forest algorithms. Report the results in a tabular format.\n",
        "Use the scaled features to run the analysis for all the models. For the optimal probability\n",
        "threshold, select the value that resulted in best performance of the logistic-regression-based\n",
        "classification in the section (c) of the first problem.\n",
        "\n",
        "*Remark:* You can consider either the scaled features with or without additional data pre-\n",
        "processing, depending on the conclusions drawn in the part (a) of the first problem."
      ],
      "metadata": {
        "id": "n5jDSjFuJYi4"
      }
    },
    {
      "cell_type": "markdown",
      "source": [
        "## Importing Libraries"
      ],
      "metadata": {
        "id": "5CZkVhuouzqQ"
      }
    },
    {
      "cell_type": "code",
      "source": [
        "# Import / install relevant Python packages\n",
        "import numpy as np\n",
        "import pandas as pd\n",
        "\n",
        "from sklearn.model_selection import (KFold, GridSearchCV, RandomizedSearchCV, cross_val_score)\n",
        "from sklearn import metrics\n",
        "from sklearn.metrics import (classification_report, confusion_matrix)\n",
        "\n",
        "import matplotlib.pyplot as plt\n",
        "from matplotlib.gridspec import GridSpec\n",
        "plt.style.use('ggplot')\n",
        "import seaborn as sns\n"
      ],
      "metadata": {
        "id": "os5YhSWVu4hD"
      },
      "execution_count": 1,
      "outputs": []
    },
    {
      "cell_type": "markdown",
      "source": [
        "## Helper functions"
      ],
      "metadata": {
        "id": "PPfz5StqH0qE"
      }
    },
    {
      "cell_type": "code",
      "source": [
        "def classification_metrics(y_pred, y_true):\n",
        "\n",
        "  accuracy = metrics.accuracy_score(y_pred,y_true)\n",
        "  precision = metrics.recall_score(y_pred,y_true)\n",
        "  recall = metrics.precision_score(y_pred,y_true)\n",
        "  f1 = metrics.f1_score(y_pred,y_true)\n",
        "  return {\n",
        "      \"Accuraccy\": accuracy,\n",
        "      \"Precision\": precision,\n",
        "      \"Recall\": recall,\n",
        "      \"F1\": f1\n",
        "  }"
      ],
      "metadata": {
        "id": "WvQCN-T7H-WV"
      },
      "execution_count": 2,
      "outputs": []
    },
    {
      "cell_type": "markdown",
      "source": [
        "## Preparing data and loading results from the first problem (*Homework_3_1.ipynb*)"
      ],
      "metadata": {
        "id": "SN26L2YLvOx8"
      }
    },
    {
      "cell_type": "markdown",
      "source": [
        "### Importing Dataset - Credit Card Defaults in Taiwan in 2005 (data is already preprocessed and scaled in the first problem)"
      ],
      "metadata": {
        "id": "DCGlw_k2Lm5f"
      }
    },
    {
      "cell_type": "code",
      "source": [
        "# UCI_Credit_Card (Engineered Features).csv should be uploaded\n",
        "from google.colab import files\n",
        "uploaded = files.upload()"
      ],
      "metadata": {
        "colab": {
          "resources": {
            "http://localhost:8080/nbextensions/google.colab/files.js": {
              "data": "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",
              "ok": true,
              "headers": [
                [
                  "content-type",
                  "application/javascript"
                ]
              ],
              "status": 200,
              "status_text": ""
            }
          },
          "base_uri": "https://localhost:8080/",
          "height": 73
        },
        "id": "Lx8ZoVMuvXXS",
        "outputId": "03fcaf94-5cf0-4250-84de-5947576ac55c"
      },
      "execution_count": 3,
      "outputs": [
        {
          "output_type": "display_data",
          "data": {
            "text/html": [
              "\n",
              "     <input type=\"file\" id=\"files-e12b89b5-e9f9-4bdc-a740-1f27ad28e36a\" name=\"files[]\" multiple disabled\n",
              "        style=\"border:none\" />\n",
              "     <output id=\"result-e12b89b5-e9f9-4bdc-a740-1f27ad28e36a\">\n",
              "      Upload widget is only available when the cell has been executed in the\n",
              "      current browser session. Please rerun this cell to enable.\n",
              "      </output>\n",
              "      <script src=\"/nbextensions/google.colab/files.js\"></script> "
            ],
            "text/plain": [
              "<IPython.core.display.HTML object>"
            ]
          },
          "metadata": {}
        },
        {
          "output_type": "stream",
          "name": "stdout",
          "text": [
            "Saving UCI_Credit_Card (Engineered Features).csv to UCI_Credit_Card (Engineered Features) (3).csv\n"
          ]
        }
      ]
    },
    {
      "cell_type": "markdown",
      "source": [
        "### Splitting the data into training and test set"
      ],
      "metadata": {
        "id": "C4OV7zPGLt-Z"
      }
    },
    {
      "cell_type": "code",
      "source": [
        "data = pd.read_csv('UCI_Credit_Card (Engineered Features).csv')\n",
        "data.drop(columns=data.columns[0], axis=1, inplace=True)\n",
        "data.head()"
      ],
      "metadata": {
        "colab": {
          "base_uri": "https://localhost:8080/",
          "height": 206
        },
        "id": "pU0TEoSBL0Up",
        "outputId": "931daf0d-3ca2-4722-da18-4230081f5b98"
      },
      "execution_count": 4,
      "outputs": [
        {
          "output_type": "execute_result",
          "data": {
            "text/html": [
              "\n",
              "  <div id=\"df-44ca9878-7e5e-43b2-80b4-6171d7271656\">\n",
              "    <div class=\"colab-df-container\">\n",
              "      <div>\n",
              "<style scoped>\n",
              "    .dataframe tbody tr th:only-of-type {\n",
              "        vertical-align: middle;\n",
              "    }\n",
              "\n",
              "    .dataframe tbody tr th {\n",
              "        vertical-align: top;\n",
              "    }\n",
              "\n",
              "    .dataframe thead th {\n",
              "        text-align: right;\n",
              "    }\n",
              "</style>\n",
              "<table border=\"1\" class=\"dataframe\">\n",
              "  <thead>\n",
              "    <tr style=\"text-align: right;\">\n",
              "      <th></th>\n",
              "      <th>PAY_0</th>\n",
              "      <th>BILL_AMT1</th>\n",
              "      <th>PAY_0 BILL_AMT1</th>\n",
              "      <th>PAY_3 BILL_AMT1</th>\n",
              "      <th>DEFAULT</th>\n",
              "    </tr>\n",
              "  </thead>\n",
              "  <tbody>\n",
              "    <tr>\n",
              "      <th>0</th>\n",
              "      <td>1.942687</td>\n",
              "      <td>-0.642501</td>\n",
              "      <td>-1.248179</td>\n",
              "      <td>0.607993</td>\n",
              "      <td>1</td>\n",
              "    </tr>\n",
              "    <tr>\n",
              "      <th>1</th>\n",
              "      <td>-1.085297</td>\n",
              "      <td>-0.659219</td>\n",
              "      <td>0.715448</td>\n",
              "      <td>-0.019315</td>\n",
              "      <td>1</td>\n",
              "    </tr>\n",
              "    <tr>\n",
              "      <th>2</th>\n",
              "      <td>-0.075969</td>\n",
              "      <td>-0.298560</td>\n",
              "      <td>0.022681</td>\n",
              "      <td>-0.008748</td>\n",
              "      <td>0</td>\n",
              "    </tr>\n",
              "    <tr>\n",
              "      <th>3</th>\n",
              "      <td>-0.075969</td>\n",
              "      <td>-0.057491</td>\n",
              "      <td>0.004368</td>\n",
              "      <td>-0.001685</td>\n",
              "      <td>0</td>\n",
              "    </tr>\n",
              "    <tr>\n",
              "      <th>4</th>\n",
              "      <td>-1.085297</td>\n",
              "      <td>-0.578618</td>\n",
              "      <td>0.627972</td>\n",
              "      <td>0.547541</td>\n",
              "      <td>0</td>\n",
              "    </tr>\n",
              "  </tbody>\n",
              "</table>\n",
              "</div>\n",
              "      <button class=\"colab-df-convert\" onclick=\"convertToInteractive('df-44ca9878-7e5e-43b2-80b4-6171d7271656')\"\n",
              "              title=\"Convert this dataframe to an interactive table.\"\n",
              "              style=\"display:none;\">\n",
              "        \n",
              "  <svg xmlns=\"http://www.w3.org/2000/svg\" height=\"24px\"viewBox=\"0 0 24 24\"\n",
              "       width=\"24px\">\n",
              "    <path d=\"M0 0h24v24H0V0z\" fill=\"none\"/>\n",
              "    <path d=\"M18.56 5.44l.94 2.06.94-2.06 2.06-.94-2.06-.94-.94-2.06-.94 2.06-2.06.94zm-11 1L8.5 8.5l.94-2.06 2.06-.94-2.06-.94L8.5 2.5l-.94 2.06-2.06.94zm10 10l.94 2.06.94-2.06 2.06-.94-2.06-.94-.94-2.06-.94 2.06-2.06.94z\"/><path d=\"M17.41 7.96l-1.37-1.37c-.4-.4-.92-.59-1.43-.59-.52 0-1.04.2-1.43.59L10.3 9.45l-7.72 7.72c-.78.78-.78 2.05 0 2.83L4 21.41c.39.39.9.59 1.41.59.51 0 1.02-.2 1.41-.59l7.78-7.78 2.81-2.81c.8-.78.8-2.07 0-2.86zM5.41 20L4 18.59l7.72-7.72 1.47 1.35L5.41 20z\"/>\n",
              "  </svg>\n",
              "      </button>\n",
              "      \n",
              "  <style>\n",
              "    .colab-df-container {\n",
              "      display:flex;\n",
              "      flex-wrap:wrap;\n",
              "      gap: 12px;\n",
              "    }\n",
              "\n",
              "    .colab-df-convert {\n",
              "      background-color: #E8F0FE;\n",
              "      border: none;\n",
              "      border-radius: 50%;\n",
              "      cursor: pointer;\n",
              "      display: none;\n",
              "      fill: #1967D2;\n",
              "      height: 32px;\n",
              "      padding: 0 0 0 0;\n",
              "      width: 32px;\n",
              "    }\n",
              "\n",
              "    .colab-df-convert:hover {\n",
              "      background-color: #E2EBFA;\n",
              "      box-shadow: 0px 1px 2px rgba(60, 64, 67, 0.3), 0px 1px 3px 1px rgba(60, 64, 67, 0.15);\n",
              "      fill: #174EA6;\n",
              "    }\n",
              "\n",
              "    [theme=dark] .colab-df-convert {\n",
              "      background-color: #3B4455;\n",
              "      fill: #D2E3FC;\n",
              "    }\n",
              "\n",
              "    [theme=dark] .colab-df-convert:hover {\n",
              "      background-color: #434B5C;\n",
              "      box-shadow: 0px 1px 3px 1px rgba(0, 0, 0, 0.15);\n",
              "      filter: drop-shadow(0px 1px 2px rgba(0, 0, 0, 0.3));\n",
              "      fill: #FFFFFF;\n",
              "    }\n",
              "  </style>\n",
              "\n",
              "      <script>\n",
              "        const buttonEl =\n",
              "          document.querySelector('#df-44ca9878-7e5e-43b2-80b4-6171d7271656 button.colab-df-convert');\n",
              "        buttonEl.style.display =\n",
              "          google.colab.kernel.accessAllowed ? 'block' : 'none';\n",
              "\n",
              "        async function convertToInteractive(key) {\n",
              "          const element = document.querySelector('#df-44ca9878-7e5e-43b2-80b4-6171d7271656');\n",
              "          const dataTable =\n",
              "            await google.colab.kernel.invokeFunction('convertToInteractive',\n",
              "                                                     [key], {});\n",
              "          if (!dataTable) return;\n",
              "\n",
              "          const docLinkHtml = 'Like what you see? Visit the ' +\n",
              "            '<a target=\"_blank\" href=https://colab.research.google.com/notebooks/data_table.ipynb>data table notebook</a>'\n",
              "            + ' to learn more about interactive tables.';\n",
              "          element.innerHTML = '';\n",
              "          dataTable['output_type'] = 'display_data';\n",
              "          await google.colab.output.renderOutput(dataTable, element);\n",
              "          const docLink = document.createElement('div');\n",
              "          docLink.innerHTML = docLinkHtml;\n",
              "          element.appendChild(docLink);\n",
              "        }\n",
              "      </script>\n",
              "    </div>\n",
              "  </div>\n",
              "  "
            ],
            "text/plain": [
              "      PAY_0  BILL_AMT1  PAY_0 BILL_AMT1  PAY_3 BILL_AMT1  DEFAULT\n",
              "0  1.942687  -0.642501        -1.248179         0.607993        1\n",
              "1 -1.085297  -0.659219         0.715448        -0.019315        1\n",
              "2 -0.075969  -0.298560         0.022681        -0.008748        0\n",
              "3 -0.075969  -0.057491         0.004368        -0.001685        0\n",
              "4 -1.085297  -0.578618         0.627972         0.547541        0"
            ]
          },
          "metadata": {},
          "execution_count": 4
        }
      ]
    },
    {
      "cell_type": "code",
      "source": [
        "# Splitting the features and target variables\n",
        "X = data.drop('DEFAULT', axis='columns')\n",
        "y = data['DEFAULT']\n",
        "y.head()"
      ],
      "metadata": {
        "colab": {
          "base_uri": "https://localhost:8080/"
        },
        "id": "11_InxnEPy7t",
        "outputId": "ee301b54-0458-448c-fe42-2019def15d4a"
      },
      "execution_count": 5,
      "outputs": [
        {
          "output_type": "execute_result",
          "data": {
            "text/plain": [
              "0    1\n",
              "1    1\n",
              "2    0\n",
              "3    0\n",
              "4    0\n",
              "Name: DEFAULT, dtype: int64"
            ]
          },
          "metadata": {},
          "execution_count": 5
        }
      ]
    },
    {
      "cell_type": "markdown",
      "source": [
        "Let's now also split our dataset into the:\n",
        "- Training set (80% of the observations -> 24,000 observations)\n",
        "- Testing set (20% of the observations -> 6,000 observations)"
      ],
      "metadata": {
        "id": "tx-7za7xmo8h"
      }
    },
    {
      "cell_type": "code",
      "source": [
        "from sklearn.model_selection import train_test_split\n",
        "\n",
        "X_scaled_train, X_scaled_test, y_scaled_train, y_scaled_test = train_test_split(X, y, test_size=0.2, random_state=42)\n",
        "\n",
        "print(f'Features: train={len(X_scaled_train)} test={len(X_scaled_test)}')\n",
        "print(f'Target: train={len(y_scaled_train)} test={len(y_scaled_test)}')"
      ],
      "metadata": {
        "colab": {
          "base_uri": "https://localhost:8080/"
        },
        "id": "UDNKb1e2OjF3",
        "outputId": "7d27fb5b-7f8f-4059-9ddb-2511063d735e"
      },
      "execution_count": 6,
      "outputs": [
        {
          "output_type": "stream",
          "name": "stdout",
          "text": [
            "Features: train=24000 test=6000\n",
            "Target: train=24000 test=6000\n"
          ]
        }
      ]
    },
    {
      "cell_type": "markdown",
      "source": [
        "### Optimal Probability Threshold\n",
        "\n",
        "Based on the calculations in the first problem, optimal probability threshold that will be used in this problem is ~ 0.217658"
      ],
      "metadata": {
        "id": "Xitb0ct5QiGz"
      }
    },
    {
      "cell_type": "code",
      "source": [
        "optimal_threshold = 0.217658"
      ],
      "metadata": {
        "id": "liXpu5fJRtcc"
      },
      "execution_count": 7,
      "outputs": []
    },
    {
      "cell_type": "markdown",
      "source": [
        "## Comparison of different Classification Methods\n",
        "\n",
        "Let's compare the different Classification Methods. All results for logistic regression can be found in the first problem notebook."
      ],
      "metadata": {
        "id": "YQR6Ro0OKyZ6"
      }
    },
    {
      "cell_type": "markdown",
      "source": [
        "### 1. Linear SVC"
      ],
      "metadata": {
        "id": "AMl96WFYLB1W"
      }
    },
    {
      "cell_type": "code",
      "source": [
        "from sklearn.svm import LinearSVC\n",
        "from sklearn.calibration import CalibratedClassifierCV\n",
        "\n",
        "# Define the cross-validation approach\n",
        "n_cv_lsvc = 5\n",
        "\n",
        "# Define the maximum number of iterations\n",
        "n_max_iter = 2000\n",
        "\n",
        "# Create an instance of the class LinearSVC\n",
        "lsvc_model = LinearSVC(max_iter=n_max_iter)\n",
        "\n",
        "# Define the search space for the hyperparameters\n",
        "search_space = dict()\n",
        "search_space['penalty'] = ['l1', 'l2']\n",
        "search_space['loss']    = ['hinge', 'squared_hinge']\n",
        "search_space['C']       = [1e-5, 1e-4, 1e-3, 1e-2, 1e-1, 1, 10, 100]\n",
        "\n",
        "# Create an instance of the class GridSearchCV with desired characteristics\n",
        "lsvc_grid_search_cv_scaled = GridSearchCV(estimator=lsvc_model, \n",
        "                                          param_grid=search_space, \n",
        "                                          scoring='accuracy', \n",
        "                                          cv=n_cv_lsvc, \n",
        "                                          n_jobs=-1)\n",
        "\n",
        "# Run the search algorithm and summarize resuts \n",
        "lsvc_grid_search_cv_scaled.fit(X_scaled_train, y_scaled_train)\n",
        "\n",
        "print(f'Best score: {lsvc_grid_search_cv_scaled.best_score_:.4f}')\n",
        "print('Best hyperparameters: %s' % lsvc_grid_search_cv_scaled.best_params_)"
      ],
      "metadata": {
        "colab": {
          "base_uri": "https://localhost:8080/"
        },
        "id": "KgRgRDmoSveM",
        "outputId": "1674a548-e1c4-412c-b17a-558d7cff9e70"
      },
      "execution_count": 8,
      "outputs": [
        {
          "output_type": "stream",
          "name": "stderr",
          "text": [
            "/usr/local/lib/python3.7/dist-packages/sklearn/model_selection/_validation.py:372: FitFailedWarning: \n",
            "80 fits failed out of a total of 160.\n",
            "The score on these train-test partitions for these parameters will be set to nan.\n",
            "If these failures are not expected, you can try to debug them by setting error_score='raise'.\n",
            "\n",
            "Below are more details about the failures:\n",
            "--------------------------------------------------------------------------------\n",
            "40 fits failed with the following error:\n",
            "Traceback (most recent call last):\n",
            "  File \"/usr/local/lib/python3.7/dist-packages/sklearn/model_selection/_validation.py\", line 680, in _fit_and_score\n",
            "    estimator.fit(X_train, y_train, **fit_params)\n",
            "  File \"/usr/local/lib/python3.7/dist-packages/sklearn/svm/_classes.py\", line 272, in fit\n",
            "    sample_weight=sample_weight,\n",
            "  File \"/usr/local/lib/python3.7/dist-packages/sklearn/svm/_base.py\", line 1185, in _fit_liblinear\n",
            "    solver_type = _get_liblinear_solver_type(multi_class, penalty, loss, dual)\n",
            "  File \"/usr/local/lib/python3.7/dist-packages/sklearn/svm/_base.py\", line 1026, in _get_liblinear_solver_type\n",
            "    % (error_string, penalty, loss, dual)\n",
            "ValueError: Unsupported set of arguments: The combination of penalty='l1' and loss='hinge' is not supported, Parameters: penalty='l1', loss='hinge', dual=True\n",
            "\n",
            "--------------------------------------------------------------------------------\n",
            "40 fits failed with the following error:\n",
            "Traceback (most recent call last):\n",
            "  File \"/usr/local/lib/python3.7/dist-packages/sklearn/model_selection/_validation.py\", line 680, in _fit_and_score\n",
            "    estimator.fit(X_train, y_train, **fit_params)\n",
            "  File \"/usr/local/lib/python3.7/dist-packages/sklearn/svm/_classes.py\", line 272, in fit\n",
            "    sample_weight=sample_weight,\n",
            "  File \"/usr/local/lib/python3.7/dist-packages/sklearn/svm/_base.py\", line 1185, in _fit_liblinear\n",
            "    solver_type = _get_liblinear_solver_type(multi_class, penalty, loss, dual)\n",
            "  File \"/usr/local/lib/python3.7/dist-packages/sklearn/svm/_base.py\", line 1026, in _get_liblinear_solver_type\n",
            "    % (error_string, penalty, loss, dual)\n",
            "ValueError: Unsupported set of arguments: The combination of penalty='l1' and loss='squared_hinge' are not supported when dual=True, Parameters: penalty='l1', loss='squared_hinge', dual=True\n",
            "\n",
            "  warnings.warn(some_fits_failed_message, FitFailedWarning)\n",
            "/usr/local/lib/python3.7/dist-packages/sklearn/model_selection/_search.py:972: UserWarning: One or more of the test scores are non-finite: [       nan 0.80454167        nan 0.806375          nan 0.78325\n",
            "        nan 0.81454167        nan 0.78391667        nan 0.816375\n",
            "        nan 0.78829167        nan 0.81633333        nan 0.78895833\n",
            "        nan 0.81629167        nan 0.78908333        nan 0.81641667\n",
            "        nan 0.78891667        nan 0.81629167        nan 0.78945833\n",
            "        nan 0.8085    ]\n",
            "  category=UserWarning,\n"
          ]
        },
        {
          "output_type": "stream",
          "name": "stdout",
          "text": [
            "Best score: 0.8164\n",
            "Best hyperparameters: {'C': 1, 'loss': 'squared_hinge', 'penalty': 'l2'}\n"
          ]
        },
        {
          "output_type": "stream",
          "name": "stderr",
          "text": [
            "/usr/local/lib/python3.7/dist-packages/sklearn/svm/_base.py:1208: ConvergenceWarning: Liblinear failed to converge, increase the number of iterations.\n",
            "  ConvergenceWarning,\n"
          ]
        }
      ]
    },
    {
      "cell_type": "code",
      "source": [
        "# Create an instance of the class LinearSVC with specific selection of hyperparameters\n",
        "lsvc_ccd_scaled = LinearSVC(penalty=lsvc_grid_search_cv_scaled.best_params_['penalty'], \n",
        "                            loss=lsvc_grid_search_cv_scaled.best_params_['loss'], \n",
        "                            C=lsvc_grid_search_cv_scaled.best_params_['C'], \n",
        "                            max_iter=n_max_iter)\n",
        "\n",
        "# Fit the model\n",
        "calibrated_classifier_cv = CalibratedClassifierCV(lsvc_ccd_scaled) \n",
        "calibrated_classifier_cv.fit(X_scaled_train, y_scaled_train)\n",
        "\n",
        "# Predict outcomes in the training and testing subsamples and calculate accuracy using optimal probability threshold\n",
        "y_scaled_pred_test = (calibrated_classifier_cv.predict_proba(X_scaled_test)[:,1] > optimal_threshold).astype(int)\n",
        "print(f'Accuracy: {metrics.accuracy_score(y_scaled_test,y_scaled_pred_test):.4f}')\n",
        "\n",
        "# Store classification metrics for KNN\n",
        "lsvc_classification_metrics = classification_metrics(y_scaled_test, y_scaled_pred_test)\n",
        "\n",
        "# Display cross-validation scores for the testing subsample\n",
        "print(classification_report(y_scaled_test, y_scaled_pred_test))"
      ],
      "metadata": {
        "colab": {
          "base_uri": "https://localhost:8080/"
        },
        "id": "iMk9dMhgTRzC",
        "outputId": "269e20ef-1388-4aae-fc75-14d5a10444b0"
      },
      "execution_count": 9,
      "outputs": [
        {
          "output_type": "stream",
          "name": "stderr",
          "text": [
            "/usr/local/lib/python3.7/dist-packages/sklearn/svm/_base.py:1208: ConvergenceWarning: Liblinear failed to converge, increase the number of iterations.\n",
            "  ConvergenceWarning,\n",
            "/usr/local/lib/python3.7/dist-packages/sklearn/svm/_base.py:1208: ConvergenceWarning: Liblinear failed to converge, increase the number of iterations.\n",
            "  ConvergenceWarning,\n",
            "/usr/local/lib/python3.7/dist-packages/sklearn/svm/_base.py:1208: ConvergenceWarning: Liblinear failed to converge, increase the number of iterations.\n",
            "  ConvergenceWarning,\n",
            "/usr/local/lib/python3.7/dist-packages/sklearn/svm/_base.py:1208: ConvergenceWarning: Liblinear failed to converge, increase the number of iterations.\n",
            "  ConvergenceWarning,\n"
          ]
        },
        {
          "output_type": "stream",
          "name": "stdout",
          "text": [
            "Accuracy: 0.7720\n",
            "              precision    recall  f1-score   support\n",
            "\n",
            "           0       0.87      0.84      0.85      4687\n",
            "           1       0.48      0.54      0.51      1313\n",
            "\n",
            "    accuracy                           0.77      6000\n",
            "   macro avg       0.67      0.69      0.68      6000\n",
            "weighted avg       0.78      0.77      0.78      6000\n",
            "\n"
          ]
        },
        {
          "output_type": "stream",
          "name": "stderr",
          "text": [
            "/usr/local/lib/python3.7/dist-packages/sklearn/svm/_base.py:1208: ConvergenceWarning: Liblinear failed to converge, increase the number of iterations.\n",
            "  ConvergenceWarning,\n"
          ]
        }
      ]
    },
    {
      "cell_type": "code",
      "source": [
        "# Plot the confusion matrix (testing subsample)\n",
        "plt.figure(figsize=(10,8))\n",
        "lsvc_ccd_confusion_scaled_test = confusion_matrix(y_scaled_test,y_scaled_pred_test)\n",
        "sns.heatmap(lsvc_ccd_confusion_scaled_test, annot=True, annot_kws={'size':24}, cmap='coolwarm', fmt='d', \n",
        "            xticklabels = ['Non-default', 'Default'], \n",
        "            yticklabels = ['Non-default', 'Default'])\n",
        "plt.ylabel('True label')\n",
        "plt.xlabel('Predicted label')\n",
        "plt.title('Confusion Matrix for Linear SVC (Scaled Features): Testing Subsample', size=18)\n",
        "plt.show()"
      ],
      "metadata": {
        "colab": {
          "base_uri": "https://localhost:8080/",
          "height": 520
        },
        "id": "bJBZ-k7Tm34K",
        "outputId": "0382716f-8a26-42f8-9fdc-3d52ac9ca2a1"
      },
      "execution_count": 10,
      "outputs": [
        {
          "output_type": "display_data",
          "data": {
            "image/png": "[encoded data removed]",
            "text/plain": [
              "<Figure size 720x576 with 2 Axes>"
            ]
          },
          "metadata": {
            "needs_background": "light"
          }
        }
      ]
    },
    {
      "cell_type": "markdown",
      "source": [
        "### 2. K-nearest neighbors (KNN)"
      ],
      "metadata": {
        "id": "eCC_qKuhK-5V"
      }
    },
    {
      "cell_type": "code",
      "source": [
        "from sklearn.neighbors import KNeighborsClassifier\n",
        "\n",
        "# Define the cross-validation approach\n",
        "n_cv_knn = 5\n",
        "\n",
        "# Create an instance of the class KNN\n",
        "knn_model = KNeighborsClassifier()\n",
        "\n",
        "# Define the search space for the hyperparameters\n",
        "search_space = dict()\n",
        "search_space['n_neighbors'] = range(1,11)\n",
        "search_space['metric']      = ['euclidean', 'manhattan']\n",
        "\n",
        "# Create an instance of the class GridSearchCV with desired characteristics\n",
        "knn_grid_search_cv_scaled = GridSearchCV(estimator=knn_model, \n",
        "                                         param_grid=search_space, \n",
        "                                         scoring='accuracy', \n",
        "                                         cv=n_cv_knn, \n",
        "                                         n_jobs=-1)\n",
        "\n",
        "# Run the search algorithm and summarize resuts \n",
        "knn_grid_search_cv_scaled.fit(X_scaled_train, y_scaled_train)\n",
        "\n",
        "print(f'Best score: {knn_grid_search_cv_scaled.best_score_:.4f}')\n",
        "print('Best hyperparameters: %s' % knn_grid_search_cv_scaled.best_params_)"
      ],
      "metadata": {
        "colab": {
          "base_uri": "https://localhost:8080/"
        },
        "id": "TrHrC1VnYnN7",
        "outputId": "f6b3c8a7-bca9-4b2c-f520-7aa323e0f6cb"
      },
      "execution_count": 11,
      "outputs": [
        {
          "output_type": "stream",
          "name": "stdout",
          "text": [
            "Best score: 0.8130\n",
            "Best hyperparameters: {'metric': 'manhattan', 'n_neighbors': 10}\n"
          ]
        }
      ]
    },
    {
      "cell_type": "code",
      "source": [
        "# Create an instance of the class KNN with specific selection of hyperparameters\n",
        "knn_ccd_scaled = KNeighborsClassifier(n_neighbors=knn_grid_search_cv_scaled.best_params_['n_neighbors'], \n",
        "                                      metric=knn_grid_search_cv_scaled.best_params_['metric'])\n",
        "\n",
        "# Fit the model\n",
        "knn_ccd_scaled.fit(X_scaled_train, y_scaled_train)\n",
        "\n",
        "# Predict outcomes in the testing subsample and calculate accuracy using optimal probability threshold\n",
        "y_scaled_pred_test = (knn_ccd_scaled.predict_proba(X_scaled_test)[:,1] > optimal_threshold).astype(int)\n",
        "print(f'Accuracy: {metrics.accuracy_score(y_scaled_test,y_scaled_pred_test):.4f}')\n",
        "\n",
        "# Store classification metrics for KNN\n",
        "knn_classification_metrics = classification_metrics(y_scaled_test, y_scaled_pred_test)\n",
        "\n",
        "# Display cross-validation scores for the testing subsample\n",
        "print(classification_report(y_scaled_test, y_scaled_pred_test))"
      ],
      "metadata": {
        "colab": {
          "base_uri": "https://localhost:8080/"
        },
        "id": "E2hVi3ZOz2yy",
        "outputId": "82ef2a59-c38e-4478-c73d-8e221a98cb4a"
      },
      "execution_count": 12,
      "outputs": [
        {
          "output_type": "stream",
          "name": "stdout",
          "text": [
            "Accuracy: 0.7215\n",
            "              precision    recall  f1-score   support\n",
            "\n",
            "           0       0.87      0.76      0.81      4687\n",
            "           1       0.41      0.59      0.48      1313\n",
            "\n",
            "    accuracy                           0.72      6000\n",
            "   macro avg       0.64      0.67      0.65      6000\n",
            "weighted avg       0.77      0.72      0.74      6000\n",
            "\n"
          ]
        }
      ]
    },
    {
      "cell_type": "code",
      "source": [
        "plt.figure(figsize=(10,8))\n",
        "knn_ccd_confusion_scaled_test = confusion_matrix(y_scaled_test,y_scaled_pred_test)\n",
        "sns.heatmap(knn_ccd_confusion_scaled_test, annot=True, annot_kws={'size':24}, cmap='coolwarm', fmt='d', \n",
        "            xticklabels = ['Non-default', 'Default'], \n",
        "            yticklabels = ['Non-default', 'Default'])\n",
        "plt.ylabel('True label')\n",
        "plt.xlabel('Predicted label')\n",
        "plt.title('Confusion Matrix for KNN (Scaled Features): Testing Subsample', size=18)\n",
        "plt.show()"
      ],
      "metadata": {
        "colab": {
          "base_uri": "https://localhost:8080/",
          "height": 520
        },
        "id": "iPSytSF13obn",
        "outputId": "f0215ede-bba1-4990-ea5b-e544675f6c9b"
      },
      "execution_count": 13,
      "outputs": [
        {
          "output_type": "display_data",
          "data": {
            "image/png": "[encoded data removed]",
            "text/plain": [
              "<Figure size 720x576 with 2 Axes>"
            ]
          },
          "metadata": {
            "needs_background": "light"
          }
        }
      ]
    },
    {
      "cell_type": "markdown",
      "source": [
        "### 3. Decision trees"
      ],
      "metadata": {
        "id": "xpuvgItessrP"
      }
    },
    {
      "cell_type": "code",
      "source": [
        "from sklearn.tree import (DecisionTreeClassifier, plot_tree)\n",
        "\n",
        "# Define the cross-validation approach\n",
        "n_cv_dt = 5\n",
        "\n",
        "# Create an instance of the class DecisionTreeClassifier\n",
        "dt_model = DecisionTreeClassifier()\n",
        "\n",
        "# Define the search space for the hyperparameters\n",
        "search_space = dict()\n",
        "search_space['max_depth']        = [2, 3, 4]\n",
        "search_space['max_features']     = [2, 3, 4]\n",
        "search_space['min_samples_leaf'] = [2, 3, 4]\n",
        "search_space['criterion']        = ['gini', 'entropy']\n",
        "\n",
        "# Create an instance of the class RandomizedSearchCV with desired characteristics\n",
        "dt_randomized_search_cv_scaled = RandomizedSearchCV(estimator=dt_model, \n",
        "                                                    param_distributions=search_space, \n",
        "                                                    scoring='accuracy', \n",
        "                                                    cv=n_cv_dt, \n",
        "                                                    n_jobs=-1)\n",
        "\n",
        "# Run the search algorithm and summarize resuts \n",
        "dt_randomized_search_cv_scaled.fit(X_scaled_train, y_scaled_train)\n",
        "\n",
        "print(f'Best score: {dt_randomized_search_cv_scaled.best_score_:.4f}')\n",
        "print('Best hyperparameters: %s' % dt_randomized_search_cv_scaled.best_params_)"
      ],
      "metadata": {
        "colab": {
          "base_uri": "https://localhost:8080/"
        },
        "id": "-TcHybUmS0Cu",
        "outputId": "a4ec117b-beb4-43c4-9913-06ac23fed4c8"
      },
      "execution_count": 14,
      "outputs": [
        {
          "output_type": "stream",
          "name": "stdout",
          "text": [
            "Best score: 0.8206\n",
            "Best hyperparameters: {'min_samples_leaf': 3, 'max_features': 3, 'max_depth': 3, 'criterion': 'gini'}\n"
          ]
        }
      ]
    },
    {
      "cell_type": "code",
      "source": [
        "# Create an instance of the class DecisionTreeClassifier with specific selection of hyperparameters\n",
        "dt_ccd_scaled = DecisionTreeClassifier(max_depth=dt_randomized_search_cv_scaled.best_params_['max_depth'], \n",
        "                                       max_features=dt_randomized_search_cv_scaled.best_params_['max_features'], \n",
        "                                       min_samples_leaf=dt_randomized_search_cv_scaled.best_params_['min_samples_leaf'],\n",
        "                                       criterion=dt_randomized_search_cv_scaled.best_params_['criterion'])\n",
        "\n",
        "# Fit the model\n",
        "dt_ccd_scaled.fit(X_scaled_train, y_scaled_train)\n",
        "\n",
        "# Predict outcomes in the testing subsamples and calculate accuracy using optimal probability threshold\n",
        "y_scaled_pred_test = (dt_ccd_scaled.predict_proba(X_scaled_test)[:,1] > optimal_threshold).astype(int)\n",
        "print(f'Accuracy: {metrics.accuracy_score(y_scaled_test, y_scaled_pred_test,):.4f}')\n",
        "\n",
        "# Store classification metrics for Decistion Tree\n",
        "dt_classification_metrics = classification_metrics(y_scaled_test, y_scaled_pred_test)\n",
        "\n",
        "print(classification_report(y_scaled_test, y_scaled_pred_test))"
      ],
      "metadata": {
        "colab": {
          "base_uri": "https://localhost:8080/"
        },
        "id": "eJwVZbmzAEBP",
        "outputId": "911abde9-9dbb-461d-d7fd-db27407c6eb5"
      },
      "execution_count": 15,
      "outputs": [
        {
          "output_type": "stream",
          "name": "stdout",
          "text": [
            "Accuracy: 0.7618\n",
            "              precision    recall  f1-score   support\n",
            "\n",
            "           0       0.87      0.82      0.84      4687\n",
            "           1       0.46      0.57      0.51      1313\n",
            "\n",
            "    accuracy                           0.76      6000\n",
            "   macro avg       0.67      0.69      0.68      6000\n",
            "weighted avg       0.78      0.76      0.77      6000\n",
            "\n"
          ]
        }
      ]
    },
    {
      "cell_type": "code",
      "source": [
        "# Plot the confusion matrix (testing subsample)\n",
        "plt.figure(figsize=(10,8))\n",
        "dt_ccd_confusion_scaled_test = confusion_matrix(y_scaled_test,y_scaled_pred_test)\n",
        "sns.heatmap(dt_ccd_confusion_scaled_test, annot=True, annot_kws={'size':24}, cmap='coolwarm', fmt='d', \n",
        "            xticklabels = ['Non-default', 'Default'], \n",
        "            yticklabels = ['Non-default', 'Default'])\n",
        "plt.ylabel('True label')\n",
        "plt.xlabel('Predicted label')\n",
        "plt.title('Confusion Matrix for Decision Tree (Scaled Features): Testing Subsample', size=18)\n",
        "plt.show()"
      ],
      "metadata": {
        "colab": {
          "base_uri": "https://localhost:8080/",
          "height": 520
        },
        "id": "XQai0M-1AEmo",
        "outputId": "052bfbce-4213-47fa-effb-9c10cdef9fa0"
      },
      "execution_count": 16,
      "outputs": [
        {
          "output_type": "display_data",
          "data": {
            "image/png": "[encoded data removed]",
            "text/plain": [
              "<Figure size 720x576 with 2 Axes>"
            ]
          },
          "metadata": {
            "needs_background": "light"
          }
        }
      ]
    },
    {
      "cell_type": "markdown",
      "source": [
        "### 4. Random forest algorithms"
      ],
      "metadata": {
        "id": "jmcpTHNFLMaY"
      }
    },
    {
      "cell_type": "code",
      "source": [
        "from sklearn.ensemble import RandomForestClassifier\n",
        "from sklearn.model_selection import RandomizedSearchCV\n",
        "\n",
        "# Define the cross-validation approach\n",
        "n_cv_rf = 5\n",
        "\n",
        "# Create an instance of the class RandomForestClassifier\n",
        "rf_model = RandomForestClassifier()\n",
        "\n",
        "# Define the search space for the hyperparameters\n",
        "search_space = dict()\n",
        "search_space['n_estimators']     = [50, 100, 150, 200, 250]\n",
        "search_space['max_depth']        = [2, 3, 4]\n",
        "search_space['max_features']     = [2, 3, 4]\n",
        "search_space['min_samples_leaf'] = [2, 3, 4]\n",
        "search_space['criterion']        = ['gini', 'entropy']\n",
        "\n",
        "# Create an instance of the class RandomizedSearchCV with desired characteristics\n",
        "rf_randomized_search_cv_scaled = RandomizedSearchCV(estimator=rf_model, \n",
        "                                                    param_distributions=search_space, \n",
        "                                                    scoring='accuracy', \n",
        "                                                    cv=n_cv_rf, \n",
        "                                                    n_jobs=-1)\n",
        "\n",
        "# Run the search algorithm and summarize resuts \n",
        "rf_randomized_search_cv_scaled.fit(X_scaled_train, y_scaled_train)\n",
        "\n",
        "print(f'Best score: {rf_randomized_search_cv_scaled.best_score_:.4f}')\n",
        "print('Best hyperparameters: %s' % rf_randomized_search_cv_scaled.best_params_)"
      ],
      "metadata": {
        "colab": {
          "base_uri": "https://localhost:8080/"
        },
        "id": "4AcSKYbwHgX3",
        "outputId": "a10bb9bb-ef48-4574-8ffb-61340d38d877"
      },
      "execution_count": 17,
      "outputs": [
        {
          "output_type": "stream",
          "name": "stdout",
          "text": [
            "Best score: 0.8205\n",
            "Best hyperparameters: {'n_estimators': 200, 'min_samples_leaf': 3, 'max_features': 2, 'max_depth': 3, 'criterion': 'entropy'}\n"
          ]
        }
      ]
    },
    {
      "cell_type": "code",
      "source": [
        "# Create an instance of the class RandomForestClassifier with specific selection of hyperparameters\n",
        "rf_ccd_scaled = RandomForestClassifier(n_estimators=rf_randomized_search_cv_scaled.best_params_['n_estimators'], \n",
        "                                       max_depth=rf_randomized_search_cv_scaled.best_params_['max_depth'], \n",
        "                                       max_features=rf_randomized_search_cv_scaled.best_params_['max_features'], \n",
        "                                       min_samples_leaf=rf_randomized_search_cv_scaled.best_params_['min_samples_leaf'],\n",
        "                                       criterion=rf_randomized_search_cv_scaled.best_params_['criterion'])\n",
        "\n",
        "# Fit the model\n",
        "rf_ccd_scaled.fit(X_scaled_train, y_scaled_train)\n",
        "\n",
        "# Predict outcomes in the testing subsamples and calculate accuracy using optimal probability threshold\n",
        "y_scaled_pred_test = (rf_ccd_scaled.predict_proba(X_scaled_test)[:,1] > optimal_threshold).astype(int)\n",
        "\n",
        "# Store classification metrics for KNN\n",
        "rf_classification_metrics = classification_metrics(y_scaled_test, y_scaled_pred_test)\n",
        "\n",
        "print(f'Accuracy: {metrics.accuracy_score(y_scaled_test,y_scaled_pred_test):.4f}')\n",
        "print(classification_report(y_scaled_test, y_scaled_pred_test))"
      ],
      "metadata": {
        "colab": {
          "base_uri": "https://localhost:8080/"
        },
        "id": "sZgMN2ddKpLL",
        "outputId": "a28bc96c-6736-4530-8d14-ecdfdcf5029b"
      },
      "execution_count": 18,
      "outputs": [
        {
          "output_type": "stream",
          "name": "stdout",
          "text": [
            "Accuracy: 0.7653\n",
            "              precision    recall  f1-score   support\n",
            "\n",
            "           0       0.87      0.82      0.85      4687\n",
            "           1       0.47      0.57      0.52      1313\n",
            "\n",
            "    accuracy                           0.77      6000\n",
            "   macro avg       0.67      0.70      0.68      6000\n",
            "weighted avg       0.78      0.77      0.77      6000\n",
            "\n"
          ]
        }
      ]
    },
    {
      "cell_type": "markdown",
      "source": [
        "## Tabular comparison of Classification Methods\n",
        "\n",
        "Let's compare 5 different Classification Methods and their metrics. \n",
        "\n",
        "The optimal probability threshold that has been used is: 0.217658."
      ],
      "metadata": {
        "id": "SmECJaaEEL_B"
      }
    },
    {
      "cell_type": "markdown",
      "source": [
        "### Classification Metrics for all Methods (testing sample)"
      ],
      "metadata": {
        "id": "bQ3CwUNhnTbF"
      }
    },
    {
      "cell_type": "code",
      "source": [
        "lsvc_classification_metrics"
      ],
      "metadata": {
        "colab": {
          "base_uri": "https://localhost:8080/"
        },
        "id": "4K3w1SJXnKnt",
        "outputId": "5b4dfeaf-8939-4e9e-9d53-fbe060dff536"
      },
      "execution_count": 19,
      "outputs": [
        {
          "output_type": "execute_result",
          "data": {
            "text/plain": [
              "{'Accuraccy': 0.772,\n",
              " 'F1': 0.5103793843951324,\n",
              " 'Precision': 0.543031226199543,\n",
              " 'Recall': 0.4814314652261985}"
            ]
          },
          "metadata": {},
          "execution_count": 19
        }
      ]
    },
    {
      "cell_type": "code",
      "source": [
        "knn_classification_metrics"
      ],
      "metadata": {
        "colab": {
          "base_uri": "https://localhost:8080/"
        },
        "id": "-BtO0IMHLho5",
        "outputId": "f618e078-2101-49a9-8ffe-15a2946c8638"
      },
      "execution_count": 20,
      "outputs": [
        {
          "output_type": "execute_result",
          "data": {
            "text/plain": [
              "{'Accuraccy': 0.7215,\n",
              " 'F1': 0.48024883359253495,\n",
              " 'Precision': 0.587966488956588,\n",
              " 'Recall': 0.4058885383806519}"
            ]
          },
          "metadata": {},
          "execution_count": 20
        }
      ]
    },
    {
      "cell_type": "code",
      "source": [
        "dt_classification_metrics"
      ],
      "metadata": {
        "colab": {
          "base_uri": "https://localhost:8080/"
        },
        "id": "cbt9rNZ9MIY_",
        "outputId": "ee1efc79-1e47-4862-eaff-3a34e3468cee"
      },
      "execution_count": 21,
      "outputs": [
        {
          "output_type": "execute_result",
          "data": {
            "text/plain": [
              "{'Accuraccy': 0.7618333333333334,\n",
              " 'F1': 0.5117868124359413,\n",
              " 'Precision': 0.5704493526275705,\n",
              " 'Recall': 0.46406443618339527}"
            ]
          },
          "metadata": {},
          "execution_count": 21
        }
      ]
    },
    {
      "cell_type": "code",
      "source": [
        "rf_classification_metrics"
      ],
      "metadata": {
        "colab": {
          "base_uri": "https://localhost:8080/"
        },
        "id": "6AtKhQTWONJ_",
        "outputId": "476f8b6b-586b-4648-ca12-669b9045cbac"
      },
      "execution_count": 22,
      "outputs": [
        {
          "output_type": "execute_result",
          "data": {
            "text/plain": [
              "{'Accuraccy': 0.7653333333333333,\n",
              " 'F1': 0.5154852030282175,\n",
              " 'Precision': 0.5704493526275705,\n",
              " 'Recall': 0.4701820464532329}"
            ]
          },
          "metadata": {},
          "execution_count": 22
        }
      ]
    },
    {
      "cell_type": "markdown",
      "source": [
        "### Tabular presentation"
      ],
      "metadata": {
        "id": "cgCQhs-InpPs"
      }
    },
    {
      "cell_type": "markdown",
      "source": [
        "| Method/Metric | Accuracy | Precision | Recall | F1 |\n",
        "| --- | --- | --- | --- | --- |\n",
        "| Logistic Regression | 0.7713 | 0.4803 | 0.5484 | 0.5121\n",
        "| Linear SVC | 0.7720 | 0.5430 | 0.4814 | 0.5104\n",
        "| K-nearest Neighbors | 0.7215 | 0.5880 | 0.4059 | 0.4803\n",
        "| Decision Tree | 0.7618 | 0.5704 | 0.4641 | 0.5118\n",
        "| Random Forrest | 0.7653 | 0.5704 | 0.4702 | 0.5155"
      ],
      "metadata": {
        "id": "ezZXi3vHJkUN"
      }
    }
  ]
}